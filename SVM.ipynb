{
 "cells": [
  {
   "cell_type": "code",
   "execution_count": 55,
   "metadata": {},
   "outputs": [],
   "source": [
    "#basic import statements\n",
    "import numpy as np\n",
    "#Load template datasets\n",
    "from sklearn import datasets\n",
    "#preprocessing modules\n",
    "from sklearn.preprocessing import StandardScaler\n",
    "\n",
    "#Algorithms\n",
    "from sklearn import svm\n",
    "\n",
    "#Validation Module of program\n",
    "from sklearn.pipeline import Pipeline\n",
    "from sklearn.model_selection import GridSearchCV\n",
    "\n",
    "#Plotting\n",
    "import matplotlib.pyplot as plt"
   ]
  },
  {
   "cell_type": "code",
   "execution_count": 25,
   "metadata": {},
   "outputs": [],
   "source": [
    "#data preprocessing\n",
    "iris = datasets.load_iris()\n",
    "iris_x=iris.data\n",
    "iris_y=iris.target"
   ]
  },
  {
   "cell_type": "code",
   "execution_count": 88,
   "metadata": {},
   "outputs": [],
   "source": [
    "#Get random indexes in an array\n",
    "indices = np.random.permutation(len(x))\n",
    "\n",
    "#Spliting the dataset\n",
    "iris_x_trn=iris_x[indices[:-60]]\n",
    "iris_y_trn=iris_y[indices[:-60]]\n",
    "iris_x_tst=iris_x[indices[-60:-30]]\n",
    "iris_y_tst=iris_y[indices[-60:-30]]\n",
    "iris_x_vld=iris_x[indices[-30:]]\n",
    "iris_y_vld=iris_y[indices[-30:]]"
   ]
  },
  {
   "cell_type": "code",
   "execution_count": 133,
   "metadata": {},
   "outputs": [
    {
     "name": "stdout",
     "output_type": "stream",
     "text": [
      "The best value of C by manual method turns out to be 1\n",
      "Accuracy with this value of C is 100 percentage\n",
      "\n",
      "By using the built in module the best value of C is 1\n",
      "Accuracy with this value of C is 100 percentage\n",
      "\n"
     ]
    }
   ],
   "source": [
    "#Linear SVM\n",
    "\n",
    "#Create a pipe line where multiple block of models can be appended one after another\n",
    "# iris_svc = svm.SVC(kernel='linear')\n",
    "# iris_pipeline = Pipeline(steps=[('svc',iris_svc)],verbose=True)\n",
    "# iris_pipeline.fit(iris_x_trn,iris_y_trn)\n",
    "# iris_pipeline.predict(iris_x_tst)\n",
    "\n",
    "#Selecting best value of 'C'\n",
    "#Manual method\n",
    "iris_svcs = [svm.SVC(kernel='linear', C=0.001) , svm.SVC(kernel='linear', C=1), svm.SVC(kernel='linear', C=10), svm.SVC(kernel='linear', C=100), svm.SVC(kernel='linear', C=1000)]\n",
    "iris_svc_score = []\n",
    "for x in range(len(iris_svcs)):\n",
    "    iris_svcs[x].fit(iris_x_trn,iris_y_trn)\n",
    "    iris_svc_score.append((iris_svcs[x].predict(iris_x_vld) == iris_y_vld).sum())\n",
    "\n",
    "print('The best value of C by manual method turns out to be %d' % iris_svcs[iris_svc_score.index(max(iris_svc_score))].C)\n",
    "print('Accuracy with this value of C is %d percentage\\n' %(((iris_svcs[iris_svc_score.index(max(iris_svc_score))].predict(iris_x_tst))    ==    iris_y_tst).sum()/len(iris_y_tst) * 100))\n",
    "\n",
    "\n",
    "\n",
    "#A better and automated way to run and evaluate multiple parameters - GridSearchCV\n",
    "params = {'C':[0.001, 1, 10,100,1000]}\n",
    "iris_svc_auto = svm.SVC()\n",
    "svm_comparison = GridSearchCV(estimator=iris_svc, param_grid=params)\n",
    "svm_comparison.fit(iris_x,iris_y)\n",
    "print('By using the built in module the best value of C is %d' % svm_comparison.best_estimator_.C)\n",
    "print('Accuracy with this value of C is %d percentage\\n' % (svm_comparison.score(iris_x_trn,iris_y_trn)*100))"
   ]
  },
  {
   "cell_type": "code",
   "execution_count": null,
   "metadata": {},
   "outputs": [],
   "source": [
    "\n",
    "\n"
   ]
  },
  {
   "cell_type": "code",
   "execution_count": null,
   "metadata": {},
   "outputs": [],
   "source": []
  },
  {
   "cell_type": "code",
   "execution_count": null,
   "metadata": {},
   "outputs": [],
   "source": []
  },
  {
   "cell_type": "code",
   "execution_count": null,
   "metadata": {},
   "outputs": [],
   "source": []
  },
  {
   "cell_type": "code",
   "execution_count": null,
   "metadata": {},
   "outputs": [],
   "source": []
  }
 ],
 "metadata": {
  "kernelspec": {
   "display_name": "Python 3",
   "language": "python",
   "name": "python3"
  },
  "language_info": {
   "codemirror_mode": {
    "name": "ipython",
    "version": 3
   },
   "file_extension": ".py",
   "mimetype": "text/x-python",
   "name": "python",
   "nbconvert_exporter": "python",
   "pygments_lexer": "ipython3",
   "version": "3.8.3"
  }
 },
 "nbformat": 4,
 "nbformat_minor": 4
}
